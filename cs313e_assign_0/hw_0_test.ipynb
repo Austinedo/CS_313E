{
 "cells": [
  {
   "cell_type": "code",
   "execution_count": 20,
   "metadata": {},
   "outputs": [
    {
     "name": "stdout",
     "output_type": "stream",
     "text": [
      "['GGAC', 'TGAT']\n"
     ]
    }
   ],
   "source": [
    "def longest_subsequence(string_1, string_2):\n",
    "    substrings = []\n",
    "\n",
    "    string_1.upper()\n",
    "    string_2.upper()\n",
    "\n",
    "    for i in range(len(string_1)):\n",
    "        for j in range(len(string_2)):\n",
    "            common_subsequence = ''\n",
    "            k = 0\n",
    "            while (i + k < len(string_1)) and (j + k < len(string_2)) and string_1[i+k] == string_2[j+k]:\n",
    "                common_subsequence += string_1[i+k]\n",
    "                k += 1\n",
    "            if len(common_subsequence) >= 3:\n",
    "                substrings.append(common_subsequence)\n",
    "\n",
    "    if len(substrings) > 0:\n",
    "        longest_length_str = max([len(item) for item in substrings])\n",
    "        substrings = [item for item in substrings if len(item) == longest_length_str]\n",
    "        substrings.sort()\n",
    "        return substrings\n",
    "    else:\n",
    "        return []\n",
    "\n",
    "answers = longest_subsequence('GTGATAAGGACCC','ATGATGGAC')\n",
    "print(answers)\n"
   ]
  },
  {
   "cell_type": "code",
   "execution_count": 22,
   "metadata": {},
   "outputs": [
    {
     "name": "stdout",
     "output_type": "stream",
     "text": [
      "[]\n"
     ]
    }
   ],
   "source": [
    "def remove_duplicates(substrings):\n",
    "    \"\"\"\n",
    "    Input: a list of the longest common subsequence(s)\n",
    "    Output: a list of the longest common subsequence(s)\n",
    "            with duplicates removed from the list\n",
    "    \"\"\"\n",
    "    if not substrings:\n",
    "        return []\n",
    "    \n",
    "    duplicates_removed = set(substrings)\n",
    "    duplicates_removed = list(duplicates_removed)\n",
    "    duplicates_removed.sort()\n",
    "    \n",
    "    return duplicates_removed\n",
    "\n",
    "haha = []\n",
    "print(remove_duplicates(haha))"
   ]
  }
 ],
 "metadata": {
  "kernelspec": {
   "display_name": "Python 3",
   "language": "python",
   "name": "python3"
  },
  "language_info": {
   "codemirror_mode": {
    "name": "ipython",
    "version": 3
   },
   "file_extension": ".py",
   "mimetype": "text/x-python",
   "name": "python",
   "nbconvert_exporter": "python",
   "pygments_lexer": "ipython3",
   "version": "3.11.0"
  },
  "orig_nbformat": 4
 },
 "nbformat": 4,
 "nbformat_minor": 2
}
