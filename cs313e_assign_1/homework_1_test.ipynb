{
 "cells": [
  {
   "cell_type": "markdown",
   "metadata": {},
   "source": [
    "PEP8 guidelines: (stuff I personally neeed to remember)\n",
    "1. Use one leading underscore only for non-public methods and instance variables\n",
    "2. Class names should use CamelCase\n",
    "3. If operators with different priorities are used, add whitespace around the operators with the lowest priority(ies)\n",
    "4. Review guidelines with indentation, whitespace usage, and comments"
   ]
  },
  {
   "cell_type": "code",
   "execution_count": 16,
   "metadata": {},
   "outputs": [
    {
     "name": "stdout",
     "output_type": "stream",
     "text": [
      "3.169925001442312\n",
      "4\n",
      "3\n",
      "True\n"
     ]
    }
   ],
   "source": [
    "import math\n",
    "print(math.log2(9))\n",
    "print(math.ceil(math.log2(9)))\n",
    "print(math.floor(math.log2(9)))\n",
    "print(math.ceil(math.log2(4)) == math.floor(math.log2(4)))"
   ]
  },
  {
   "cell_type": "code",
   "execution_count": null,
   "metadata": {},
   "outputs": [],
   "source": [
    "def create_spiral(dim):\n",
    "    \"\"\"Creates a Spiral given a dimension for the spiral diameter\"\"\"\n",
    "    \n",
    "    spiral = [[0] * dim for i in range(dim)]\n",
    "    \n",
    "    center = dim // 2\n",
    "    row, col = center, center\n",
    "\n",
    "    current_num = 1\n",
    "    direction_index = 0\n",
    "    step_size = 1\n",
    "    move_count = 0\n",
    "\n",
    "    while current_num <= dim*dim:\n",
    "        spiral[row][col] = current_num\n",
    "\n",
    "        if direction_index == 0:\n",
    "            col += 1\n",
    "        elif direction_index == 1:\n",
    "            row += 1\n",
    "        elif direction_index == 2:\n",
    "            col -= 1\n",
    "        elif direction_index == 3:\n",
    "            row -= 1\n",
    "        \n",
    "        current_num += 1\n",
    "        move_count += 1\n",
    "\n",
    "        if move_count == step_size:\n",
    "            move_count = 0\n",
    "            direction_index = (direction_index + 1) % 4\n",
    "            if direction_index == 0 or direction_index == 2:\n",
    "                step_size += 1\n",
    "    \n",
    "    return spiral\n",
    "\n",
    "woohoo = create_spiral(5)\n",
    "for row in woohoo: \n",
    "    print(row)\n",
    "\n",
    "val = 12\n",
    "if val not in woohoo:\n",
    "    print(f'{val} not in woohoo')\n",
    "else: \n",
    "    print(f'{val} is in woohoo')"
   ]
  },
  {
   "cell_type": "code",
   "execution_count": 1,
   "metadata": {},
   "outputs": [
    {
     "name": "stdout",
     "output_type": "stream",
     "text": [
      "index error => x=3; y=-1\n",
      "x=3; y=0 => 18\n",
      "x=3; y=1 => 5\n",
      "index error => x=4; y=-1\n",
      "x=4; y=0 => 17\n",
      "x=4; y=1 => 16\n",
      "index error => x=5; y=-1\n",
      "index error => x=5; y=0\n",
      "index error => x=5; y=1\n",
      "target value: 17\n",
      "sum of the subgrid: 39\n"
     ]
    }
   ],
   "source": [
    "def sum_sub_grid(grid, val):\n",
    "    sum = 0\n",
    "    row, col = 0, 0\n",
    "    if val not in range(1, len(grid) * len(grid) + 1):\n",
    "        return 0\n",
    "    else:\n",
    "        for i in range(len(grid)):\n",
    "            for j in range(len(grid[i])): \n",
    "                if val == grid[i][j]:\n",
    "                    row, col = i , j\n",
    "\n",
    "        for x in range(row-1, row+2):\n",
    "            for y in range(col-1, col+2):\n",
    "                try:\n",
    "                    if x < 0 or y < 0:\n",
    "                        raise IndexError ('index error')\n",
    "                    else:\n",
    "                        print(f'x={x}; y={y} => {grid[x][y]}')\n",
    "                        sum += grid[x][y]\n",
    "                except IndexError:\n",
    "                    print(f'index error => x={x}; y={y}')\n",
    "        sum -= val\n",
    "    \n",
    "    return sum\n",
    "\n",
    "temp_grid = [[21, 22, 23, 24, 25],\n",
    "             [20, 7, 8, 9, 10],\n",
    "             [19, 6, 1, 2, 11],\n",
    "             [18, 5, 4, 3, 12],\n",
    "             [17, 16, 15, 14, 13]\n",
    "             ]\n",
    "\n",
    "x = 17\n",
    "sub_grid_total = sum_sub_grid(temp_grid, x)\n",
    "print(f'target value: {x}')\n",
    "print(f'sum of the subgrid: {sub_grid_total}')\n",
    "\n"
   ]
  },
  {
   "cell_type": "code",
   "execution_count": 11,
   "metadata": {},
   "outputs": [
    {
     "name": "stdout",
     "output_type": "stream",
     "text": [
      "0 is not in the grid\n"
     ]
    }
   ],
   "source": [
    "x = 0\n",
    "if x not in range(1, len(temp_grid)*len(temp_grid)+1):\n",
    "    print(f'{x} is not in the grid')\n",
    "else:\n",
    "    print(f'{x} is in the grid')"
   ]
  },
  {
   "cell_type": "code",
   "execution_count": null,
   "metadata": {},
   "outputs": [],
   "source": [
    "import pandas as pd\n",
    "import numpy as np\n",
    "\n",
    "diameter = 11\n",
    "temp = [[0]*diameter]*diameter\n",
    "for row in temp:\n",
    "    for item in row:\n",
    "        print(item, end=' ')\n",
    "    print()\n",
    "\n"
   ]
  }
 ],
 "metadata": {
  "kernelspec": {
   "display_name": "base",
   "language": "python",
   "name": "python3"
  },
  "language_info": {
   "codemirror_mode": {
    "name": "ipython",
    "version": 3
   },
   "file_extension": ".py",
   "mimetype": "text/x-python",
   "name": "python",
   "nbconvert_exporter": "python",
   "pygments_lexer": "ipython3",
   "version": "3.11.0"
  },
  "orig_nbformat": 4
 },
 "nbformat": 4,
 "nbformat_minor": 2
}
