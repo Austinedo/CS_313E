{
 "cells": [
  {
   "cell_type": "code",
   "execution_count": null,
   "metadata": {},
   "outputs": [],
   "source": [
    "x = [(5,6), (1,2), (3,4)]\n",
    "\n",
    "for index, value in enumerate(x):\n",
    "    print(f'index = {index}; value = {value}')\n",
    "\n",
    "y = sorted(x)\n",
    "print(id(x))\n",
    "print(id(y))\n"
   ]
  },
  {
   "cell_type": "code",
   "execution_count": 6,
   "metadata": {},
   "outputs": [
    {
     "name": "stdout",
     "output_type": "stream",
     "text": [
      "merged interval list:            [(-25, -14), (-10, -3), (2, 6), (12, 18), (22, 30)]\n",
      "sorted and merged interval list: [(2, 6), (12, 18), (-10, -3), (22, 30), (-25, -14)]\n"
     ]
    }
   ],
   "source": [
    "tuples_list = [(14, 17),(-8, -5),(26, 29),(-20, -15),(12, 15),(2, 3),\n",
    "               (-10, -7),(25, 30),(2, 4),(-21, -16),(13, 18),(22, 27),\n",
    "               (-6, -3),(3, 6),(-25, -14)]\n",
    "\n",
    "\n",
    "def merge_tuples(tuples_list):\n",
    "    if not tuples_list:\n",
    "        return []\n",
    "    \n",
    "    duplicate_of_tuples = sorted(tuples_list, key=lambda x: x[0]) # use sorted() instead of .sort() \n",
    "    prev_len = len(duplicate_of_tuples)\n",
    "    merged_list = []\n",
    "\n",
    "    while duplicate_of_tuples:\n",
    "        current_interval = duplicate_of_tuples.pop(0)\n",
    "        \n",
    "        if not merged_list or current_interval[0] > merged_list[-1][1]: # if the list is empty or the interval is not merge-able\n",
    "            merged_list.append(current_interval)\n",
    "        else:                                                           # merges the interval [ current_interval[0] <= merged_list[-1][1] ]\n",
    "            merged_list[-1] = (merged_list[-1][0], max(current_interval[1], merged_list[-1][1]))\n",
    "\n",
    "        if len(duplicate_of_tuples) == prev_len:\n",
    "            break\n",
    "\n",
    "        prev_len = len(tuples_list)\n",
    "    \n",
    "    return merged_list\n",
    "\n",
    "\n",
    "def sort_by_interval_size(tuples_list):\n",
    "    sorted_merge_list = sorted(tuples_list, key=lambda interval: (interval[1]-interval[0], interval[0]))\n",
    "    return sorted_merge_list\n",
    "\n",
    "merged = merge_tuples(tuples_list)\n",
    "sorted_merge = sort_by_interval_size(merge_tuples(tuples_list))\n",
    "\n",
    "print(f'merged interval list:            {merged}')\n",
    "print(f'sorted and merged interval list: {sorted_merge}')"
   ]
  },
  {
   "cell_type": "code",
   "execution_count": null,
   "metadata": {},
   "outputs": [],
   "source": [
    "to_be_sorted = [(22, 30), (-25, -14), (12, 18), (11, 17)]\n",
    "\n",
    "def sort_by_interval_size(tuples_list):\n",
    "    tuples_list.sort(key=lambda interval: (interval[1]-interval[0], interval[0]))\n",
    "    return tuples_list\n",
    "\n",
    "to_be_sorted = sort_by_interval_size(to_be_sorted)\n",
    "print(to_be_sorted)"
   ]
  }
 ],
 "metadata": {
  "kernelspec": {
   "display_name": "Python 3",
   "language": "python",
   "name": "python3"
  },
  "language_info": {
   "codemirror_mode": {
    "name": "ipython",
    "version": 3
   },
   "file_extension": ".py",
   "mimetype": "text/x-python",
   "name": "python",
   "nbconvert_exporter": "python",
   "pygments_lexer": "ipython3",
   "version": "3.11.4"
  },
  "orig_nbformat": 4
 },
 "nbformat": 4,
 "nbformat_minor": 2
}
