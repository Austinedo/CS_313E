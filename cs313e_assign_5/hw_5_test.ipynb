{
 "cells": [
  {
   "cell_type": "code",
   "execution_count": 6,
   "metadata": {},
   "outputs": [
    {
     "name": "stdout",
     "output_type": "stream",
     "text": [
      "152\n"
     ]
    }
   ],
   "source": [
    "def sum_series(v, k, p=0):\n",
    "    \"\"\"\n",
    "    Input: v an integer representing the minimum lines of code and\n",
    "           k an integer representing the productivity factor\n",
    "    Output: computes the sum of the series (v + v // k + v // k**2 + ...)\n",
    "            and returns the sum of the series\n",
    "    \"\"\"\n",
    "    if v // (k ** p) <= 0:\n",
    "        return 0\n",
    "    else:\n",
    "        return v // (k ** p) + sum_series(v,k,p+1)\n",
    "    \n",
    "def linear_search (n, k):\n",
    "    \"\"\"\n",
    "    Input: n an integer representing the total number of lines of code\n",
    "           k an integer representing the productivity factor\n",
    "    Output: returns v the minimum lines of code to write using linear search\n",
    "    \"\"\"\n",
    "    for i in range(0, n):\n",
    "        if sum_series(i, k) >= n:\n",
    "            return i\n",
    "\n",
    "print(linear_search(300, 2))"
   ]
  }
 ],
 "metadata": {
  "kernelspec": {
   "display_name": "Python 3",
   "language": "python",
   "name": "python3"
  },
  "language_info": {
   "codemirror_mode": {
    "name": "ipython",
    "version": 3
   },
   "file_extension": ".py",
   "mimetype": "text/x-python",
   "name": "python",
   "nbconvert_exporter": "python",
   "pygments_lexer": "ipython3",
   "version": "3.11.0"
  },
  "orig_nbformat": 4
 },
 "nbformat": 4,
 "nbformat_minor": 2
}
