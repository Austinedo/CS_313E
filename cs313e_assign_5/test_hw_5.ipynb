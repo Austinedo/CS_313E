{
 "cells": [
  {
   "cell_type": "code",
   "execution_count": 1,
   "metadata": {},
   "outputs": [
    {
     "name": "stdout",
     "output_type": "stream",
     "text": [
      "10\n"
     ]
    }
   ],
   "source": [
    "def recurse_sum_series(v, k, p=0):\n",
    "   if  v // (k ** p) == 0:\n",
    "      return 0\n",
    "   \n",
    "   return ( (v // (k ** p)) + recurse_sum_series(v,k,p+1) )\n",
    "\n",
    "def sum_series (v, k):\n",
    "    sum_of_series = 0\n",
    "    p = 0\n",
    "\n",
    "    while v // (k ** p) > 0:\n",
    "        sum_of_series += v // (k ** p)\n",
    "        p += 1\n",
    "    \n",
    "    return sum_of_series\n",
    "\n",
    "print(sum_series(10,11))\n",
    "\n",
    "# 152 (sum = 152) coffee = 0 = p\n",
    "# 76 (sum = 228) coffeee = 1 = p\n",
    "# 38 (sum = 266) coffee = 2 = p\n",
    "# 19 (sum = 285) coffee = 3 = p\n",
    "# 9 (sum = 294) coffee = 4 = p\n",
    "# 4 (sum = 298) coffee = 5 = p\n",
    "# 2 (sum = 301) coffee = 6 = p"
   ]
  },
  {
   "cell_type": "code",
   "execution_count": 13,
   "metadata": {},
   "outputs": [
    {
     "name": "stdout",
     "output_type": "stream",
     "text": [
      "152\n"
     ]
    }
   ],
   "source": [
    "def binary_search (n, k):\n",
    "    low, high = 1, n\n",
    "    result = 0\n",
    "    \n",
    "    while low <= high:\n",
    "        mid = (low + high) // 2\n",
    "\n",
    "        if recurse_sum_series(mid, k) >= n:\n",
    "            result = mid\n",
    "            high = mid - 1\n",
    "        else:\n",
    "            low = mid + 1\n",
    "    return result\n",
    "\n",
    "\n",
    "print(binary_search(300,2))"
   ]
  }
 ],
 "metadata": {
  "kernelspec": {
   "display_name": "base",
   "language": "python",
   "name": "python3"
  },
  "language_info": {
   "codemirror_mode": {
    "name": "ipython",
    "version": 3
   },
   "file_extension": ".py",
   "mimetype": "text/x-python",
   "name": "python",
   "nbconvert_exporter": "python",
   "pygments_lexer": "ipython3",
   "version": "3.9.13"
  },
  "orig_nbformat": 4
 },
 "nbformat": 4,
 "nbformat_minor": 2
}
