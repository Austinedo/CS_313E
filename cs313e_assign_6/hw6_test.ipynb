{
 "cells": [
  {
   "cell_type": "code",
   "execution_count": null,
   "metadata": {},
   "outputs": [],
   "source": [
    "class Link:\n",
    "    def __init__(self, data, next_link=None):\n",
    "        self.data = data\n",
    "        self.next = next_link\n",
    "\n",
    "    def print_link_data(self):\n",
    "        print(self.data)\n",
    "\n",
    "    def __str__(self):\n",
    "        return str(self.data) + '-->' + str(self.next)\n",
    "\n",
    "class CircularList:\n",
    "    def __init__(self):\n",
    "        self.head = None\n",
    "\n",
    "    def insert(self, data):\n",
    "        new_link = Link(data)\n",
    "        \n",
    "\n",
    "    def find(self, data):\n",
    "        pass\n",
    "\n",
    "    def delete(self, data):\n",
    "        pass\n",
    "\n",
    "    def delete_after(self, start, n):\n",
    "        pass\n",
    "\n",
    "    def __str__(self):\n",
    "        pass"
   ]
  }
 ],
 "metadata": {
  "kernelspec": {
   "display_name": "base",
   "language": "python",
   "name": "python3"
  },
  "language_info": {
   "name": "python",
   "version": "3.9.13"
  },
  "orig_nbformat": 4
 },
 "nbformat": 4,
 "nbformat_minor": 2
}
