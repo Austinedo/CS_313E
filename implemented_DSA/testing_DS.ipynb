{
 "cells": [
  {
   "cell_type": "code",
   "execution_count": 2,
   "metadata": {},
   "outputs": [
    {
     "name": "stdout",
     "output_type": "stream",
     "text": [
      "[1, 2, 3, 4, 5]\n",
      "[1, 2]\n"
     ]
    }
   ],
   "source": [
    "import data_structures as ds\n",
    "\n",
    "# testing stack\n",
    "stack = ds.Stack()\n",
    "\n",
    "stack.push(1) # this value should be at the bottom of the stack so the front of the list\n",
    "stack.push(2)\n",
    "stack.push(3)\n",
    "stack.push(4)\n",
    "stack.push(5) # this value should be at the top of the stack so the end of the list\n",
    "\n",
    "print(stack) # [1,2,3,4,5]\n",
    "\n",
    "stack.pop()\n",
    "stack.pop()\n",
    "stack.pop()\n",
    "\n",
    "print(stack) # [1,2]"
   ]
  },
  {
   "cell_type": "code",
   "execution_count": 1,
   "metadata": {},
   "outputs": [
    {
     "name": "stdout",
     "output_type": "stream",
     "text": [
      "['yes', 'no', 'maybe', 'so']\n",
      "['maybe', 'so']\n"
     ]
    }
   ],
   "source": [
    "import data_structures as ds\n",
    "\n",
    "# testing queue\n",
    "queue = ds.Queue()\n",
    "\n",
    "queue.enqueue('yes') # this should be the first item in the queue so the front of the list \n",
    "queue.enqueue('no')\n",
    "queue.enqueue('maybe')\n",
    "queue.enqueue('so') # this should be the last item in the queue so the end of the list\n",
    "\n",
    "print(queue) # ['yes', 'no', 'maybe', 'so']\n",
    "\n",
    "queue.dequeue()\n",
    "queue.dequeue()\n",
    "\n",
    "print(queue) # ['maybe', 'so']"
   ]
  },
  {
   "cell_type": "code",
   "execution_count": null,
   "metadata": {},
   "outputs": [],
   "source": [
    "import data_structures as ds\n",
    "\n",
    "# testing Singularly Linked List"
   ]
  },
  {
   "cell_type": "code",
   "execution_count": 2,
   "metadata": {},
   "outputs": [
    {
     "name": "stdout",
     "output_type": "stream",
     "text": [
      "[True, 0, 0, 0, 0]\n"
     ]
    }
   ],
   "source": [
    "selected = [0] * 5\n",
    "selected[0] = True\n",
    "\n",
    "print(selected)"
   ]
  },
  {
   "cell_type": "code",
   "execution_count": 23,
   "metadata": {},
   "outputs": [
    {
     "name": "stdout",
     "output_type": "stream",
     "text": [
      "Median (Odd): 4\n",
      "Median (Even): 3.5\n",
      "[1, 1, 2, 3, 3, 4, 5, 5, 5, 6, 9] Median: 4\n",
      "[1, 1, 2, 3, 3, 4, 5, 5, 6, 9] Median: 3.5\n"
     ]
    }
   ],
   "source": [
    "# finding median using heaps\n",
    "import heapq\n",
    "\n",
    "def get_median(m_list):\n",
    "    median = 0\n",
    "    heap = []\n",
    "    for i in m_list:\n",
    "        heapq.heappush(heap, i)\n",
    "    \n",
    "    if len(m_list) % 2 == 0:\n",
    "        mid_1 = len(m_list) // 2\n",
    "        mid_2 = len(m_list) // 2 - 1\n",
    "\n",
    "        for i in range(len(m_list)):\n",
    "            if i == mid_1:\n",
    "                mid_1 = heapq.heappop(heap)\n",
    "            elif i == mid_2:\n",
    "                mid_2 = heapq.heappop(heap)\n",
    "            else:\n",
    "                heapq.heappop(heap)\n",
    "\n",
    "        median = (mid_1 + mid_2) / 2\n",
    "    else:\n",
    "        mid = len(m_list) // 2\n",
    "        for i in range(0, mid+1):\n",
    "            median = heapq.heappop(heap)\n",
    "\n",
    "    return median\n",
    "\n",
    "# Example usage:\n",
    "m_list_odd = [3, 1, 4, 1, 5, 9, 2, 6, 5, 3, 5]\n",
    "result_odd = get_median(m_list_odd)\n",
    "print(\"Median (Odd):\", result_odd)\n",
    "\n",
    "m_list_even = [3, 1, 4, 1, 5, 9, 2, 6, 5, 3]\n",
    "result_even = get_median(m_list_even)\n",
    "print(\"Median (Even):\", result_even)\n",
    "\n",
    "print(sorted(m_list_odd), 'Median:', 4)\n",
    "print(sorted(m_list_even), 'Median:', 3.5)"
   ]
  }
 ],
 "metadata": {
  "kernelspec": {
   "display_name": "base",
   "language": "python",
   "name": "python3"
  },
  "language_info": {
   "codemirror_mode": {
    "name": "ipython",
    "version": 3
   },
   "file_extension": ".py",
   "mimetype": "text/x-python",
   "name": "python",
   "nbconvert_exporter": "python",
   "pygments_lexer": "ipython3",
   "version": "3.9.13"
  },
  "orig_nbformat": 4
 },
 "nbformat": 4,
 "nbformat_minor": 2
}
