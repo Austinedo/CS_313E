{
 "cells": [
  {
   "cell_type": "code",
   "execution_count": 2,
   "metadata": {},
   "outputs": [
    {
     "name": "stdout",
     "output_type": "stream",
     "text": [
      "[1, 2, 3, 4, 5]\n",
      "[1, 2]\n"
     ]
    }
   ],
   "source": [
    "import data_structures as ds\n",
    "\n",
    "# testing stack\n",
    "stack = ds.Stack()\n",
    "\n",
    "stack.push(1) # this value should be at the bottom of the stack so the front of the list\n",
    "stack.push(2)\n",
    "stack.push(3)\n",
    "stack.push(4)\n",
    "stack.push(5) # this value should be at the top of the stack so the end of the list\n",
    "\n",
    "print(stack) # [1,2,3,4,5]\n",
    "\n",
    "stack.pop()\n",
    "stack.pop()\n",
    "stack.pop()\n",
    "\n",
    "print(stack) # [1,2]"
   ]
  },
  {
   "cell_type": "code",
   "execution_count": 1,
   "metadata": {},
   "outputs": [
    {
     "name": "stdout",
     "output_type": "stream",
     "text": [
      "['yes', 'no', 'maybe', 'so']\n",
      "['maybe', 'so']\n"
     ]
    }
   ],
   "source": [
    "import data_structures as ds\n",
    "\n",
    "# testing queue\n",
    "queue = ds.Queue()\n",
    "\n",
    "queue.enqueue('yes') # this should be the first item in the queue so the front of the list \n",
    "queue.enqueue('no')\n",
    "queue.enqueue('maybe')\n",
    "queue.enqueue('so') # this should be the last item in the queue so the end of the list\n",
    "\n",
    "print(queue) # ['yes', 'no', 'maybe', 'so']\n",
    "\n",
    "queue.dequeue()\n",
    "queue.dequeue()\n",
    "\n",
    "print(queue) # ['maybe', 'so']"
   ]
  },
  {
   "cell_type": "code",
   "execution_count": null,
   "metadata": {},
   "outputs": [],
   "source": [
    "import data_structures as ds\n",
    "\n",
    "# testing Singularly Linked List\n"
   ]
  }
 ],
 "metadata": {
  "kernelspec": {
   "display_name": "base",
   "language": "python",
   "name": "python3"
  },
  "language_info": {
   "codemirror_mode": {
    "name": "ipython",
    "version": 3
   },
   "file_extension": ".py",
   "mimetype": "text/x-python",
   "name": "python",
   "nbconvert_exporter": "python",
   "pygments_lexer": "ipython3",
   "version": "3.9.13"
  },
  "orig_nbformat": 4
 },
 "nbformat": 4,
 "nbformat_minor": 2
}
