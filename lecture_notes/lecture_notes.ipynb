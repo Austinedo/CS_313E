{
 "cells": [
  {
   "cell_type": "markdown",
   "metadata": {},
   "source": [
    "**PEP8 guidelines: (stuff I personally neeed to remember)**\n",
    "1. Use one leading underscore only for non-public methods and instance variables\n",
    "2. Class names should use CamelCase\n",
    "3. If operators with different priorities are used, add whitespace around the operators with the lowest priority(ies)\n",
    "4. Review guidelines with indentation, whitespace usage, and comments\n",
    "\n",
    "**Things to look into / explore:**\n",
    "1. collections module\n",
    "2. copy module\n",
    "3. DEBUGGING IN PYTHON\n",
    "4. special properties of NaN values\n",
    "\n",
    "**Things to practice:**\n",
    "1. recursions"
   ]
  },
  {
   "cell_type": "code",
   "execution_count": null,
   "metadata": {},
   "outputs": [],
   "source": [
    "a, b, c, d = input().split()\n",
    "print(a, b, c, d)\n",
    "print(type(a), type(b), type(c), type(4))"
   ]
  },
  {
   "cell_type": "code",
   "execution_count": 4,
   "metadata": {},
   "outputs": [],
   "source": [
    "word = 'bca'\n",
    "word_key = ''.join(sorted(word))\n",
    "print(word_key)"
   ]
  },
  {
   "cell_type": "code",
   "execution_count": null,
   "metadata": {},
   "outputs": [],
   "source": [
    "my_string = 'austine.do13@gmail.com'\n",
    "list_of_my_string = list(my_string)\n",
    "print(list_of_my_string)\n",
    "\n",
    "if '@' in list_of_my_string:\n",
    "    print('True')\n",
    "else:\n",
    "    print('False')"
   ]
  },
  {
   "cell_type": "markdown",
   "metadata": {},
   "source": [
    "**Lambda functions**"
   ]
  },
  {
   "cell_type": "code",
   "execution_count": null,
   "metadata": {},
   "outputs": [],
   "source": [
    "# lambda function example 1\n",
    "\n",
    "result = (lambda x,y: x * y)(10, 12)\n",
    "print(result)\n"
   ]
  },
  {
   "cell_type": "code",
   "execution_count": null,
   "metadata": {},
   "outputs": [],
   "source": [
    "# lambda function example 2\n",
    "\n",
    "a = [2,3,4,5,6]\n",
    "list(map(lambda x: x**2-1,a))"
   ]
  },
  {
   "cell_type": "code",
   "execution_count": null,
   "metadata": {},
   "outputs": [],
   "source": [
    "# you can store lambda functions in a list \n",
    "\n",
    "my_functions = [lambda s: 'LOWER CASE: ' + s.lower(),\n",
    "                lambda s: 'UPPER CASE: ' + s.upper(),\n",
    "                lambda s: 'Head: ' + s[:5],\n",
    "                lambda s: 'Tail: ' + s[-5:]\n",
    "                ]\n",
    "\n",
    "for i in range(len(my_functions)): \n",
    "    print(my_functions[i]('Hello World'))\n",
    "\n",
    "for i in range(len(my_functions)): \n",
    "    print(my_functions[i]('Hello Austin'))\n"
   ]
  },
  {
   "cell_type": "markdown",
   "metadata": {},
   "source": [
    "**Recursions**"
   ]
  },
  {
   "cell_type": "code",
   "execution_count": null,
   "metadata": {},
   "outputs": [],
   "source": [
    "# recursion example 1\n",
    "\n",
    "def fact(n):\n",
    "  if(n == 0): # base case\n",
    "    return 1\n",
    "  else:\n",
    "    return n * fact(n - 1)\n",
    "\n",
    "# Calculate 10!\n",
    "fact(10)"
   ]
  },
  {
   "cell_type": "code",
   "execution_count": null,
   "metadata": {},
   "outputs": [],
   "source": [
    "def fibonacci(n):\n",
    "    if ((n == 1) or (n == 2)): # base case\n",
    "        return 1\n",
    "    else:\n",
    "        return fibonacci(n - 1) + fibonacci(n - 2) # this will create a recursion tree\n",
    "    \n",
    "# fib(10)\n",
    "fibonacci(10)\n",
    "\n",
    "\"\"\"\n",
    "we will later explore to make it so that these functions won't have recalculate things that have already been calculated \n",
    "otherwise iterative function perform the same tasks as a recursive function but in less steps\n",
    "\"\"\""
   ]
  },
  {
   "cell_type": "markdown",
   "metadata": {},
   "source": [
    "*NOTE: the number of steps taken in a recursive function may exceed that of a iterative function that completes the same task*"
   ]
  },
  {
   "cell_type": "markdown",
   "metadata": {},
   "source": [
    "**Review of Functions**"
   ]
  },
  {
   "cell_type": "code",
   "execution_count": null,
   "metadata": {},
   "outputs": [],
   "source": [
    "def give_me_back_sum(*args):\n",
    "    return sum(args)\n",
    "\n",
    "print(give_me_back_sum(2,4,5))"
   ]
  },
  {
   "cell_type": "code",
   "execution_count": null,
   "metadata": {},
   "outputs": [],
   "source": [
    "def give_me_back_2(**kwargs):\n",
    "    return kwargs.get('price')\n",
    "\n",
    "print(give_me_back_2(x=2, y=3, price=4))\n",
    "print(give_me_back_2(price='slay', x=10, y=12, name='product'))"
   ]
  },
  {
   "cell_type": "markdown",
   "metadata": {},
   "source": [
    "**Classes**\n",
    "\n",
    "- classes have a multitude of built-in dunder methods or otherwise called magic methods that are only invoked internally within the class upon certain action such as addition, substraction, or instance comparison (class customization)\n",
    "- class attributes vs. instance attributes:\n",
    "    - class attributes applies to all instances of that class but instance attributes do not apply to all instances of a class\n",
    "- use a DOUBLE underscore before methods/functions and variables names to indicate that they are to be use internally by a class and not a part of the class interface (private functions/variables)\n",
    "- to access private variables you need to define a 'getter' method that accesses the private variable internally\n",
    "\n",
    "- **Inheritance:**\n",
    "    - max 3 levels of inheritance\n",
    "    - \n",
    "\n",
    "- **Polymorphism:**\n",
    "    - gives us the ability to switch components without loss of functionality\n",
    "    - when two or more objects have the same method but performs different things\n",
    "\n",
    "- **Encapsulation:**\n",
    "    - Restrict the access to object's data from external interference\n",
    "    - With encapsulation we can control and check the input values to prevent errors or unwanted behaviors\n",
    "    - Physical localization of features into a single blackbox abstraction that hides their implementation behind a public interface. \"Information hiding\" is a corollary concept that  indicates data fields are hidden from the user but the functionalities as implemented through functions are exposed.\n",
    "    - You need 'get' and 'set' methods for private variables (using @property decorators)\n",
    "\n",
    "- **Abstraction:**\n",
    "    - Hiding the implementation complexity\n",
    "    - Offering computation services over application programming interfaces (API)"
   ]
  },
  {
   "cell_type": "code",
   "execution_count": null,
   "metadata": {},
   "outputs": [],
   "source": [
    "class Car:\n",
    "    def __init__(self,**kwargs):\n",
    "        self.brand = kwargs['brand']\n",
    "        self.hp = kwargs['hp']\n",
    "        self.type = kwargs.get('type')\n",
    "        self.engine = kwargs.get('engine')\n",
    "\n",
    "    def __str__(self):\n",
    "        return f'Brand: {self.brand}\\nType: {self.type}\\nEngine: {self.engine}\\nHP: {self.hp}\\n'\n",
    "\n",
    "    def change_brand_name(self, new_brand):\n",
    "        self.brand = new_brand\n",
    "\n",
    "class Truck(Car):\n",
    "    def __init__(self, **kwargs):\n",
    "        super().__init__(**kwargs)\n",
    "        self.load = kwargs.get('load')\n",
    "\n",
    "    def __str__(self):\n",
    "        return f'Brand: {self.brand}\\nType: {self.type}\\nEngine: {self.engine}\\nHP: {self.hp}\\nLoad: {self.load}\\n'\n",
    "\n",
    "\n",
    "car_1 = Car(engine='v8', hp=351, type='coupe', brand='Porsche')\n",
    "print(car_1)\n",
    "car_1.change_brand_name('Mercedes')\n",
    "print(car_1)\n",
    "\n",
    "truck_1 = Truck(brand='Toyota', hp='250', type='pick-up',\n",
    "                engine='v6', load='1000 kg')\n",
    "print(truck_1)"
   ]
  },
  {
   "cell_type": "code",
   "execution_count": null,
   "metadata": {},
   "outputs": [],
   "source": [
    "# example of encapsulation (check example_004_01_oop_encapsulation.py in github)\n",
    "class MyCar:\n",
    "    def __init__(self):\n",
    "        self.__build = 0\n",
    "\n",
    "    @property\n",
    "    def build(self):\n",
    "        \"\"\"method to return build year\"\"\"\n",
    "        return self.__build\n",
    "\n",
    "    @build.setter\n",
    "    def build(self, build): # --> this method protects the class from being feed incorrect external data (encapsulation)\n",
    "        if build > 1900:\n",
    "            self.__build = build\n",
    "        else:\n",
    "            print('Year is invalid')\n",
    "\n",
    "    def __str__(self):\n",
    "        return f'The car was built in {self.__build}'\n",
    "\n",
    "my_car = MyCar()\n",
    "my_car.build = 1899\n",
    "print(my_car.build)\n"
   ]
  },
  {
   "cell_type": "code",
   "execution_count": null,
   "metadata": {},
   "outputs": [],
   "source": [
    "# example of multiple inheritance (example_003_oop_method_overwriting.py)\n",
    "# for multiple inheritance classA(classB, classC) then this is read as A extends B and C and when A check for methods/variables it will search the class passed to A from left to right\n",
    "# so super() will search B first and then C in this case"
   ]
  },
  {
   "cell_type": "markdown",
   "metadata": {},
   "source": [
    "**UNIT TESTING**\n",
    "- https://docs.python.org/3/library/unittest.html"
   ]
  },
  {
   "cell_type": "code",
   "execution_count": null,
   "metadata": {},
   "outputs": [],
   "source": [
    "# example of unit testing (example_005_unittest_001 - example_005_unittest_003)\n",
    "import unittest\n"
   ]
  },
  {
   "cell_type": "markdown",
   "metadata": {},
   "source": [
    "# Binary Tree and Binary Search Tree\n",
    "\n",
    "visualization of a binary search tree\n",
    "\n",
    "            a <- the root of the tree (level 1)\n",
    "           / \\\n",
    "          /   \\\n",
    "         b     c <- (level 2)\n",
    "        / \\   / \\ \n",
    "       d   e f   g <- (level 3)\n",
    "\n",
    "The purpose of storing data in a tree like this is to be able to find it fast\n",
    "\n",
    "The nodes in the BST come in the form (key, value) where the node has a search key and the node also has data in the form of the value\n",
    "\n",
    "**RULE OF BST**: The key on the left leaf of the root should be less than the key at the root and the right leaf of the root should be greater than the key at the root\n",
    "\n",
    "_find(key) --> finds the key in the binary tree [O(log(n))]\n",
    "_insert(key) --> ensures that the key being inserted into the tree follow the rule of the binary tree [O(log(n))]\n",
    "_del(key) --> deletes key from the BST [O(log(n))]\n",
    "_predcessor\n",
    "_successor\n",
    "_min --> far right side of the tree\n",
    "_max -- far left side of the tree\n",
    "\n",
    "Height of this tree: h = log(N)\n",
    "\n",
    "- **_insert(key) function example**\n",
    "\n",
    "list of data to build tree: [45,25,65,27,8]\n",
    "\n",
    "                                   45\n",
    "                                 /    \\\n",
    "                                /      \\\n",
    "                               25       65\n",
    "                              /  \\\n",
    "                             /    \\\n",
    "                            8     27\n",
    "\n",
    "- **_del(key) function example**\n",
    "\n",
    "list of data in the tree: [100,50,200,20,70,150,300]\n",
    "                                   100\n",
    "                                 /     \\\n",
    "                                /       \\\n",
    "                              50        200\n",
    "                             / \\        /  \\\n",
    "                            /   \\      /    \\\n",
    "                          20    70   150    300\n",
    "\n",
    "deleting 50 from the tree: \n",
    "- need to find a replacement node such that it still satisfies tree properties\n",
    "- in this case it can be 20 or 70 so long that it follows the properties of the tree\n",
    "\n",
    "\n",
    " "
   ]
  }
 ],
 "metadata": {
  "kernelspec": {
   "display_name": "Python 3",
   "language": "python",
   "name": "python3"
  },
  "language_info": {
   "codemirror_mode": {
    "name": "ipython",
    "version": 3
   },
   "file_extension": ".py",
   "mimetype": "text/x-python",
   "name": "python",
   "nbconvert_exporter": "python",
   "pygments_lexer": "ipython3",
   "version": "3.11.0"
  },
  "orig_nbformat": 4
 },
 "nbformat": 4,
 "nbformat_minor": 2
}
