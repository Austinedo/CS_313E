{
 "cells": [
  {
   "cell_type": "markdown",
   "metadata": {},
   "source": [
    "PEP8 guidelines: (stuff I personally neeed to remember)\n",
    "1. Use one leading underscore only for non-public methods and instance variables\n",
    "2. Class names should use CamelCase\n",
    "3. If operators with different priorities are used, add whitespace around the operators with the lowest priority(ies)\n",
    "4. Review guidelines with indentation, whitespace usage, and comments"
   ]
  },
  {
   "cell_type": "code",
   "execution_count": null,
   "metadata": {},
   "outputs": [],
   "source": [
    "    "
   ]
  }
 ],
 "metadata": {
  "kernelspec": {
   "display_name": "Python 3",
   "language": "python",
   "name": "python3"
  },
  "language_info": {
   "name": "python",
   "version": "3.11.0"
  },
  "orig_nbformat": 4
 },
 "nbformat": 4,
 "nbformat_minor": 2
}
