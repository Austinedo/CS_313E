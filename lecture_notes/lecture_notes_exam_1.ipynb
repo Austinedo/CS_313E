{
 "cells": [
  {
   "cell_type": "markdown",
   "metadata": {},
   "source": [
    "**PEP8 guidelines: (stuff I personally neeed to remember)**\n",
    "1. Use one leading underscore only for non-public methods and instance variables\n",
    "2. Class names should use CamelCase\n",
    "3. If operators with different priorities are used, add whitespace around the operators with the lowest priority(ies)\n",
    "4. Review guidelines with indentation, whitespace usage, and comments\n",
    "\n",
    "**Things to look into / explore:**\n",
    "1. collections module\n",
    "2. copy module\n",
    "3. DEBUGGING IN PYTHON\n",
    "4. special properties of NaN values\n",
    "\n",
    "**Things to practice:**\n",
    "1. recursions"
   ]
  },
  {
   "cell_type": "code",
   "execution_count": null,
   "metadata": {},
   "outputs": [],
   "source": [
    "a, b, c, d = input().split()\n",
    "print(a, b, c, d)\n",
    "print(type(a), type(b), type(c), type(4))"
   ]
  },
  {
   "cell_type": "markdown",
   "metadata": {},
   "source": [
    "**Lambda functions**"
   ]
  },
  {
   "cell_type": "code",
   "execution_count": 2,
   "metadata": {},
   "outputs": [
    {
     "name": "stdout",
     "output_type": "stream",
     "text": [
      "120\n"
     ]
    },
    {
     "data": {
      "text/plain": [
       "[3, 8, 15, 24, 35]"
      ]
     },
     "execution_count": 2,
     "metadata": {},
     "output_type": "execute_result"
    }
   ],
   "source": [
    "# lambda function example 1\n",
    "\n",
    "result = (lambda x,y: x * y)(10, 12)\n",
    "print(result)\n"
   ]
  },
  {
   "cell_type": "code",
   "execution_count": null,
   "metadata": {},
   "outputs": [],
   "source": [
    "# lambda function example 2\n",
    "\n",
    "a = [2,3,4,5,6]\n",
    "list(map(lambda x: x**2-1,a))"
   ]
  },
  {
   "cell_type": "code",
   "execution_count": 3,
   "metadata": {},
   "outputs": [
    {
     "name": "stdout",
     "output_type": "stream",
     "text": [
      "LOWER CASE: hello world\n",
      "UPPER CASE: HELLO WORLD\n",
      "Head: Hello\n",
      "Tail: World\n",
      "LOWER CASE: hello austin\n",
      "UPPER CASE: HELLO AUSTIN\n",
      "Head: Hello\n",
      "Tail: ustin\n"
     ]
    }
   ],
   "source": [
    "# you can store lambda functions in a list \n",
    "\n",
    "my_functions = [lambda s: 'LOWER CASE: ' + s.lower(),\n",
    "                lambda s: 'UPPER CASE: ' + s.upper(),\n",
    "                lambda s: 'Head: ' + s[:5],\n",
    "                lambda s: 'Tail: ' + s[-5:]\n",
    "                ]\n",
    "\n",
    "for i in range(len(my_functions)): \n",
    "    print(my_functions[i]('Hello World'))\n",
    "\n",
    "for i in range(len(my_functions)): \n",
    "    print(my_functions[i]('Hello Austin'))\n"
   ]
  },
  {
   "cell_type": "markdown",
   "metadata": {},
   "source": [
    "**Recursions**"
   ]
  },
  {
   "cell_type": "code",
   "execution_count": null,
   "metadata": {},
   "outputs": [],
   "source": [
    "# recursion example 1\n",
    "\n",
    "def fact(n):\n",
    "  if(n == 0): # base case\n",
    "    return 1\n",
    "  else:\n",
    "    return n * fact(n - 1)\n",
    "\n",
    "# Calculate 10!\n",
    "fact(10)"
   ]
  },
  {
   "cell_type": "code",
   "execution_count": null,
   "metadata": {},
   "outputs": [],
   "source": [
    "def fibonacci(n):\n",
    "    if ((n == 1) or (n == 2)): # base case\n",
    "        return 1\n",
    "    else:\n",
    "        return fibonacci(n - 1) + fibonacci(n - 2) # this will create a recursion tree\n",
    "    \n",
    "# fib(10)\n",
    "fibonacci(10)\n",
    "\n",
    "\"\"\"\n",
    "we will later explore to make it so that these functions won't have recalculate things that have already been calculated \n",
    "otherwise iterative function perform the same tasks as a recursive function but in less steps\n",
    "\"\"\""
   ]
  },
  {
   "cell_type": "markdown",
   "metadata": {},
   "source": [
    "*NOTE: the number of steps taken in a recursive function may exceed that of a iterative function that completes the same task*"
   ]
  }
 ],
 "metadata": {
  "kernelspec": {
   "display_name": "Python 3",
   "language": "python",
   "name": "python3"
  },
  "language_info": {
   "codemirror_mode": {
    "name": "ipython",
    "version": 3
   },
   "file_extension": ".py",
   "mimetype": "text/x-python",
   "name": "python",
   "nbconvert_exporter": "python",
   "pygments_lexer": "ipython3",
   "version": "3.11.0"
  },
  "orig_nbformat": 4
 },
 "nbformat": 4,
 "nbformat_minor": 2
}
