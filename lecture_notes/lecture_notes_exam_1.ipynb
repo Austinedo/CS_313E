{
 "cells": [
  {
   "cell_type": "markdown",
   "metadata": {},
   "source": [
    "**PEP8 guidelines: (stuff I personally neeed to remember)**\n",
    "1. Use one leading underscore only for non-public methods and instance variables\n",
    "2. Class names should use CamelCase\n",
    "3. If operators with different priorities are used, add whitespace around the operators with the lowest priority(ies)\n",
    "4. Review guidelines with indentation, whitespace usage, and comments\n",
    "\n",
    "**Things to look into / explore:**\n",
    "1. collections module\n",
    "2. copy module\n",
    "3. DEBUGGING IN PYTHON\n",
    "4. special properties of NaN values\n",
    "\n",
    "**Things to practice:**\n",
    "1. recursions"
   ]
  },
  {
   "cell_type": "code",
   "execution_count": null,
   "metadata": {},
   "outputs": [],
   "source": [
    "a, b, c, d = input().split()\n",
    "print(a, b, c, d)\n",
    "print(type(a), type(b), type(c), type(4))"
   ]
  },
  {
   "cell_type": "markdown",
   "metadata": {},
   "source": [
    "**Lambda functions**"
   ]
  },
  {
   "cell_type": "code",
   "execution_count": 2,
   "metadata": {},
   "outputs": [
    {
     "name": "stdout",
     "output_type": "stream",
     "text": [
      "120\n"
     ]
    },
    {
     "data": {
      "text/plain": [
       "[3, 8, 15, 24, 35]"
      ]
     },
     "execution_count": 2,
     "metadata": {},
     "output_type": "execute_result"
    }
   ],
   "source": [
    "# lambda function example 1\n",
    "\n",
    "result = (lambda x,y: x * y)(10, 12)\n",
    "print(result)\n"
   ]
  },
  {
   "cell_type": "code",
   "execution_count": null,
   "metadata": {},
   "outputs": [],
   "source": [
    "# lambda function example 2\n",
    "\n",
    "a = [2,3,4,5,6]\n",
    "list(map(lambda x: x**2-1,a))"
   ]
  },
  {
   "cell_type": "code",
   "execution_count": 3,
   "metadata": {},
   "outputs": [
    {
     "name": "stdout",
     "output_type": "stream",
     "text": [
      "LOWER CASE: hello world\n",
      "UPPER CASE: HELLO WORLD\n",
      "Head: Hello\n",
      "Tail: World\n",
      "LOWER CASE: hello austin\n",
      "UPPER CASE: HELLO AUSTIN\n",
      "Head: Hello\n",
      "Tail: ustin\n"
     ]
    }
   ],
   "source": [
    "# you can store lambda functions in a list \n",
    "\n",
    "my_functions = [lambda s: 'LOWER CASE: ' + s.lower(),\n",
    "                lambda s: 'UPPER CASE: ' + s.upper(),\n",
    "                lambda s: 'Head: ' + s[:5],\n",
    "                lambda s: 'Tail: ' + s[-5:]\n",
    "                ]\n",
    "\n",
    "for i in range(len(my_functions)): \n",
    "    print(my_functions[i]('Hello World'))\n",
    "\n",
    "for i in range(len(my_functions)): \n",
    "    print(my_functions[i]('Hello Austin'))\n"
   ]
  },
  {
   "cell_type": "markdown",
   "metadata": {},
   "source": [
    "**Recursions**"
   ]
  },
  {
   "cell_type": "code",
   "execution_count": null,
   "metadata": {},
   "outputs": [],
   "source": [
    "# recursion example 1\n",
    "\n",
    "def fact(n):\n",
    "  if(n == 0): # base case\n",
    "    return 1\n",
    "  else:\n",
    "    return n * fact(n - 1)\n",
    "\n",
    "# Calculate 10!\n",
    "fact(10)"
   ]
  },
  {
   "cell_type": "code",
   "execution_count": null,
   "metadata": {},
   "outputs": [],
   "source": [
    "def fibonacci(n):\n",
    "    if ((n == 1) or (n == 2)): # base case\n",
    "        return 1\n",
    "    else:\n",
    "        return fibonacci(n - 1) + fibonacci(n - 2) # this will create a recursion tree\n",
    "    \n",
    "# fib(10)\n",
    "fibonacci(10)\n",
    "\n",
    "\"\"\"\n",
    "we will later explore to make it so that these functions won't have recalculate things that have already been calculated \n",
    "otherwise iterative function perform the same tasks as a recursive function but in less steps\n",
    "\"\"\""
   ]
  },
  {
   "cell_type": "markdown",
   "metadata": {},
   "source": [
    "*NOTE: the number of steps taken in a recursive function may exceed that of a iterative function that completes the same task*"
   ]
  },
  {
   "cell_type": "markdown",
   "metadata": {},
   "source": [
    "**Review of Functions**"
   ]
  },
  {
   "cell_type": "code",
   "execution_count": 12,
   "metadata": {},
   "outputs": [
    {
     "name": "stdout",
     "output_type": "stream",
     "text": [
      "11\n"
     ]
    }
   ],
   "source": [
    "def give_me_back_sum(*args):\n",
    "    return sum(args)\n",
    "\n",
    "print(give_me_back_sum(2,4,5))"
   ]
  },
  {
   "cell_type": "code",
   "execution_count": 8,
   "metadata": {},
   "outputs": [
    {
     "name": "stdout",
     "output_type": "stream",
     "text": [
      "4\n",
      "slay\n"
     ]
    }
   ],
   "source": [
    "def give_me_back_2(**kwargs):\n",
    "    return kwargs.get('price')\n",
    "\n",
    "print(give_me_back_2(x=2, y=3, price=4))\n",
    "print(give_me_back_2(price='slay', x=10, y=12, name='product'))"
   ]
  },
  {
   "cell_type": "markdown",
   "metadata": {},
   "source": [
    "**Classes**\n",
    "\n",
    "- classes have a multitude of built-in dunder methods or otherwise called magic methods that are only invoked internally within the class upon certain action such as addition, substraction, or instance comparison (class customization)\n",
    "- class attributes vs. instance attributes:\n",
    "    - class attributes applies to all instances of that class but instance attributes do not apply to all instances of a class\n",
    "- use a single underscore before methods/functions and variables names to indicate that they are to be use internally by a class and not a part of the class interface (private functions/variables)\n",
    "\n",
    "- **Inheritance:**\n",
    "    - temp\n",
    "\n",
    "- **Polymorphism:**\n",
    "    - temp"
   ]
  },
  {
   "cell_type": "code",
   "execution_count": 11,
   "metadata": {},
   "outputs": [
    {
     "name": "stdout",
     "output_type": "stream",
     "text": [
      "Brand: Porsche\n",
      "Type: coupe\n",
      "Engine: v8\n",
      "HP: 351\n",
      "\n",
      "Brand: Mercedes\n",
      "Type: coupe\n",
      "Engine: v8\n",
      "HP: 351\n",
      "\n",
      "Brand: Toyota\n",
      "Type: pick-up\n",
      "Engine: v6\n",
      "HP: 250\n",
      "Load: 1000 kg\n",
      "\n"
     ]
    }
   ],
   "source": [
    "class Car:\n",
    "    def __init__(self,**kwargs):\n",
    "        self.brand = kwargs['brand']\n",
    "        self.hp = kwargs['hp']\n",
    "        self.type = kwargs.get('type')\n",
    "        self.engine = kwargs.get('engine')\n",
    "\n",
    "    def __str__(self):\n",
    "        return f'Brand: {self.brand}\\nType: {self.type}\\nEngine: {self.engine}\\nHP: {self.hp}\\n'\n",
    "\n",
    "    def change_brand_name(self, new_brand):\n",
    "        self.brand = new_brand\n",
    "\n",
    "class Truck(Car):\n",
    "    def __init__(self, **kwargs):\n",
    "        super().__init__(**kwargs)\n",
    "        self.load = kwargs.get('load')\n",
    "\n",
    "    def __str__(self):\n",
    "        return f'Brand: {self.brand}\\nType: {self.type}\\nEngine: {self.engine}\\nHP: {self.hp}\\nLoad: {self.load}\\n'\n",
    "\n",
    "\n",
    "car_1 = Car(engine='v8', hp=351, type='coupe', brand='Porsche')\n",
    "print(car_1)\n",
    "car_1.change_brand_name('Mercedes')\n",
    "print(car_1)\n",
    "\n",
    "truck_1 = Truck(brand='Toyota', hp='250', type='pick-up', engine='v6', load='1000 kg')\n",
    "print(truck_1)"
   ]
  }
 ],
 "metadata": {
  "kernelspec": {
   "display_name": "Python 3",
   "language": "python",
   "name": "python3"
  },
  "language_info": {
   "codemirror_mode": {
    "name": "ipython",
    "version": 3
   },
   "file_extension": ".py",
   "mimetype": "text/x-python",
   "name": "python",
   "nbconvert_exporter": "python",
   "pygments_lexer": "ipython3",
   "version": "3.11.0"
  },
  "orig_nbformat": 4
 },
 "nbformat": 4,
 "nbformat_minor": 2
}
